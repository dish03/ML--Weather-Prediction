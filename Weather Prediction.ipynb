{
 "cells": [
  {
   "cell_type": "markdown",
   "id": "1be6ba0a",
   "metadata": {},
   "source": [
    "## Mumbai Weather Prediction"
   ]
  },
  {
   "cell_type": "markdown",
   "id": "4c471cc3",
   "metadata": {},
   "source": [
    "#### Importing modules"
   ]
  },
  {
   "cell_type": "code",
   "execution_count": 38,
   "id": "1a2dfc3f",
   "metadata": {},
   "outputs": [],
   "source": [
    "import pandas as pd"
   ]
  },
  {
   "cell_type": "markdown",
   "id": "08c51548",
   "metadata": {},
   "source": [
    "#### Loading data"
   ]
  },
  {
   "cell_type": "code",
   "execution_count": 39,
   "id": "1da7d570",
   "metadata": {},
   "outputs": [
    {
     "data": {
      "text/html": [
       "<div>\n",
       "<style scoped>\n",
       "    .dataframe tbody tr th:only-of-type {\n",
       "        vertical-align: middle;\n",
       "    }\n",
       "\n",
       "    .dataframe tbody tr th {\n",
       "        vertical-align: top;\n",
       "    }\n",
       "\n",
       "    .dataframe thead th {\n",
       "        text-align: right;\n",
       "    }\n",
       "</style>\n",
       "<table border=\"1\" class=\"dataframe\">\n",
       "  <thead>\n",
       "    <tr style=\"text-align: right;\">\n",
       "      <th></th>\n",
       "      <th>tavg</th>\n",
       "      <th>tmin</th>\n",
       "      <th>tmax</th>\n",
       "      <th>prcp</th>\n",
       "    </tr>\n",
       "    <tr>\n",
       "      <th>time</th>\n",
       "      <th></th>\n",
       "      <th></th>\n",
       "      <th></th>\n",
       "      <th></th>\n",
       "    </tr>\n",
       "  </thead>\n",
       "  <tbody>\n",
       "    <tr>\n",
       "      <th>01-01-1990</th>\n",
       "      <td>23.2</td>\n",
       "      <td>17.0</td>\n",
       "      <td>NaN</td>\n",
       "      <td>0.0</td>\n",
       "    </tr>\n",
       "    <tr>\n",
       "      <th>02-01-1990</th>\n",
       "      <td>22.2</td>\n",
       "      <td>16.5</td>\n",
       "      <td>29.9</td>\n",
       "      <td>0.0</td>\n",
       "    </tr>\n",
       "    <tr>\n",
       "      <th>03-01-1990</th>\n",
       "      <td>21.8</td>\n",
       "      <td>16.3</td>\n",
       "      <td>30.7</td>\n",
       "      <td>0.0</td>\n",
       "    </tr>\n",
       "    <tr>\n",
       "      <th>04-01-1990</th>\n",
       "      <td>25.4</td>\n",
       "      <td>17.9</td>\n",
       "      <td>31.8</td>\n",
       "      <td>0.0</td>\n",
       "    </tr>\n",
       "    <tr>\n",
       "      <th>05-01-1990</th>\n",
       "      <td>26.5</td>\n",
       "      <td>19.3</td>\n",
       "      <td>33.7</td>\n",
       "      <td>0.0</td>\n",
       "    </tr>\n",
       "  </tbody>\n",
       "</table>\n",
       "</div>"
      ],
      "text/plain": [
       "            tavg  tmin  tmax  prcp\n",
       "time                              \n",
       "01-01-1990  23.2  17.0   NaN   0.0\n",
       "02-01-1990  22.2  16.5  29.9   0.0\n",
       "03-01-1990  21.8  16.3  30.7   0.0\n",
       "04-01-1990  25.4  17.9  31.8   0.0\n",
       "05-01-1990  26.5  19.3  33.7   0.0"
      ]
     },
     "execution_count": 39,
     "metadata": {},
     "output_type": "execute_result"
    }
   ],
   "source": [
    "weather = pd.read_csv(r\"C:\\Users\\disha\\Downloads\\mumbai_weather.csv\", index_col='time')\n",
    "weather.head()"
   ]
  },
  {
   "cell_type": "markdown",
   "id": "6ec4148d",
   "metadata": {},
   "source": [
    "### Cleaning the data"
   ]
  },
  {
   "cell_type": "markdown",
   "id": "0a57118a",
   "metadata": {},
   "source": [
    "#### Statistical information about the data"
   ]
  },
  {
   "cell_type": "code",
   "execution_count": 40,
   "id": "6d93968a",
   "metadata": {},
   "outputs": [
    {
     "data": {
      "text/html": [
       "<div>\n",
       "<style scoped>\n",
       "    .dataframe tbody tr th:only-of-type {\n",
       "        vertical-align: middle;\n",
       "    }\n",
       "\n",
       "    .dataframe tbody tr th {\n",
       "        vertical-align: top;\n",
       "    }\n",
       "\n",
       "    .dataframe thead th {\n",
       "        text-align: right;\n",
       "    }\n",
       "</style>\n",
       "<table border=\"1\" class=\"dataframe\">\n",
       "  <thead>\n",
       "    <tr style=\"text-align: right;\">\n",
       "      <th></th>\n",
       "      <th>tavg</th>\n",
       "      <th>tmin</th>\n",
       "      <th>tmax</th>\n",
       "      <th>prcp</th>\n",
       "    </tr>\n",
       "  </thead>\n",
       "  <tbody>\n",
       "    <tr>\n",
       "      <th>count</th>\n",
       "      <td>11883.000000</td>\n",
       "      <td>9440.000000</td>\n",
       "      <td>9987.000000</td>\n",
       "      <td>7213.000000</td>\n",
       "    </tr>\n",
       "    <tr>\n",
       "      <th>mean</th>\n",
       "      <td>27.762509</td>\n",
       "      <td>22.618549</td>\n",
       "      <td>32.315040</td>\n",
       "      <td>10.942007</td>\n",
       "    </tr>\n",
       "    <tr>\n",
       "      <th>std</th>\n",
       "      <td>2.189138</td>\n",
       "      <td>3.803629</td>\n",
       "      <td>2.234577</td>\n",
       "      <td>29.808576</td>\n",
       "    </tr>\n",
       "    <tr>\n",
       "      <th>min</th>\n",
       "      <td>17.700000</td>\n",
       "      <td>8.500000</td>\n",
       "      <td>22.300000</td>\n",
       "      <td>0.000000</td>\n",
       "    </tr>\n",
       "    <tr>\n",
       "      <th>25%</th>\n",
       "      <td>26.600000</td>\n",
       "      <td>19.800000</td>\n",
       "      <td>30.900000</td>\n",
       "      <td>0.000000</td>\n",
       "    </tr>\n",
       "    <tr>\n",
       "      <th>50%</th>\n",
       "      <td>28.100000</td>\n",
       "      <td>23.700000</td>\n",
       "      <td>32.400000</td>\n",
       "      <td>0.000000</td>\n",
       "    </tr>\n",
       "    <tr>\n",
       "      <th>75%</th>\n",
       "      <td>29.300000</td>\n",
       "      <td>25.400000</td>\n",
       "      <td>33.900000</td>\n",
       "      <td>7.100000</td>\n",
       "    </tr>\n",
       "    <tr>\n",
       "      <th>max</th>\n",
       "      <td>33.700000</td>\n",
       "      <td>30.400000</td>\n",
       "      <td>41.300000</td>\n",
       "      <td>461.000000</td>\n",
       "    </tr>\n",
       "  </tbody>\n",
       "</table>\n",
       "</div>"
      ],
      "text/plain": [
       "               tavg         tmin         tmax         prcp\n",
       "count  11883.000000  9440.000000  9987.000000  7213.000000\n",
       "mean      27.762509    22.618549    32.315040    10.942007\n",
       "std        2.189138     3.803629     2.234577    29.808576\n",
       "min       17.700000     8.500000    22.300000     0.000000\n",
       "25%       26.600000    19.800000    30.900000     0.000000\n",
       "50%       28.100000    23.700000    32.400000     0.000000\n",
       "75%       29.300000    25.400000    33.900000     7.100000\n",
       "max       33.700000    30.400000    41.300000   461.000000"
      ]
     },
     "execution_count": 40,
     "metadata": {},
     "output_type": "execute_result"
    }
   ],
   "source": [
    "weather.describe()"
   ]
  },
  {
   "cell_type": "markdown",
   "id": "d677e33c",
   "metadata": {},
   "source": [
    "This shows that there are some null values and they need to be removed"
   ]
  },
  {
   "cell_type": "code",
   "execution_count": 41,
   "id": "89334e5f",
   "metadata": {
    "scrolled": true
   },
   "outputs": [
    {
     "name": "stdout",
     "output_type": "stream",
     "text": [
      "<class 'pandas.core.frame.DataFrame'>\n",
      "Index: 11894 entries, 01-01-1990 to 25-07-2022\n",
      "Data columns (total 4 columns):\n",
      " #   Column  Non-Null Count  Dtype  \n",
      "---  ------  --------------  -----  \n",
      " 0   tavg    11883 non-null  float64\n",
      " 1   tmin    9440 non-null   float64\n",
      " 2   tmax    9987 non-null   float64\n",
      " 3   prcp    7213 non-null   float64\n",
      "dtypes: float64(4)\n",
      "memory usage: 464.6+ KB\n"
     ]
    }
   ],
   "source": [
    "weather.info()"
   ]
  },
  {
   "cell_type": "markdown",
   "id": "f8dac804",
   "metadata": {},
   "source": [
    "All the columns have the right datatype for training"
   ]
  },
  {
   "cell_type": "markdown",
   "id": "fe0297ac",
   "metadata": {},
   "source": [
    "#### Checking for null values"
   ]
  },
  {
   "cell_type": "code",
   "execution_count": 42,
   "id": "6dce2b49",
   "metadata": {},
   "outputs": [
    {
     "data": {
      "text/plain": [
       "tavg      11\n",
       "tmin    2454\n",
       "tmax    1907\n",
       "prcp    4681\n",
       "dtype: int64"
      ]
     },
     "execution_count": 42,
     "metadata": {},
     "output_type": "execute_result"
    }
   ],
   "source": [
    "weather.isnull().sum()"
   ]
  },
  {
   "cell_type": "markdown",
   "id": "6d6b6d7d",
   "metadata": {},
   "source": [
    "#### Filling the missing values with mean"
   ]
  },
  {
   "cell_type": "code",
   "execution_count": 43,
   "id": "a1dd8e62",
   "metadata": {},
   "outputs": [],
   "source": [
    "weather['tavg'] = weather['tavg'].fillna(weather['tavg'].mean())\n",
    "weather['tmin'] = weather['tmin'].fillna(weather['tmin'].mean())\n",
    "weather['tmax'] = weather['tmax'].fillna(weather['tmax'].mean())\n",
    "weather['prcp'] = weather['prcp'].fillna(weather['prcp'].mean())"
   ]
  },
  {
   "cell_type": "code",
   "execution_count": 44,
   "id": "f67d620a",
   "metadata": {},
   "outputs": [
    {
     "data": {
      "text/plain": [
       "tavg    0\n",
       "tmin    0\n",
       "tmax    0\n",
       "prcp    0\n",
       "dtype: int64"
      ]
     },
     "execution_count": 44,
     "metadata": {},
     "output_type": "execute_result"
    }
   ],
   "source": [
    "weather.isnull().sum()"
   ]
  },
  {
   "cell_type": "markdown",
   "id": "c025d739",
   "metadata": {},
   "source": [
    "All the null values have been removed"
   ]
  },
  {
   "cell_type": "markdown",
   "id": "e407e5c4",
   "metadata": {},
   "source": [
    "#### Checking datatype"
   ]
  },
  {
   "cell_type": "code",
   "execution_count": 45,
   "id": "c57dc311",
   "metadata": {},
   "outputs": [
    {
     "data": {
      "text/plain": [
       "Index(['01-01-1990', '02-01-1990', '03-01-1990', '04-01-1990', '05-01-1990',\n",
       "       '06-01-1990', '07-01-1990', '08-01-1990', '09-01-1990', '10-01-1990',\n",
       "       ...\n",
       "       '16-07-2022', '17-07-2022', '18-07-2022', '19-07-2022', '20-07-2022',\n",
       "       '21-07-2022', '22-07-2022', '23-07-2022', '24-07-2022', '25-07-2022'],\n",
       "      dtype='object', name='time', length=11894)"
      ]
     },
     "execution_count": 45,
     "metadata": {},
     "output_type": "execute_result"
    }
   ],
   "source": [
    "weather.index"
   ]
  },
  {
   "cell_type": "markdown",
   "id": "f434a126",
   "metadata": {},
   "source": [
    "#### Converting dtype object to date"
   ]
  },
  {
   "cell_type": "code",
   "execution_count": 48,
   "id": "c09c300c",
   "metadata": {},
   "outputs": [],
   "source": [
    "weather.index = pd.to_datetime(weather.index, format='%d-%m-%Y')"
   ]
  },
  {
   "cell_type": "code",
   "execution_count": 19,
   "id": "1e993053",
   "metadata": {},
   "outputs": [
    {
     "data": {
      "text/plain": [
       "DatetimeIndex(['1990-01-01', '1990-02-01', '1990-03-01', '1990-04-01',\n",
       "               '1990-05-01', '1990-06-01', '1990-07-01', '1990-08-01',\n",
       "               '1990-09-01', '1990-10-01',\n",
       "               ...\n",
       "               '2022-07-16', '2022-07-17', '2022-07-18', '2022-07-19',\n",
       "               '2022-07-20', '2022-07-21', '2022-07-22', '2022-07-23',\n",
       "               '2022-07-24', '2022-07-25'],\n",
       "              dtype='datetime64[ns]', name='time', length=11894, freq=None)"
      ]
     },
     "execution_count": 19,
     "metadata": {},
     "output_type": "execute_result"
    }
   ],
   "source": [
    "weather.index"
   ]
  },
  {
   "cell_type": "markdown",
   "id": "b7704f7b",
   "metadata": {},
   "source": [
    "#### Checking if our data dont have any gap values"
   ]
  },
  {
   "cell_type": "code",
   "execution_count": 49,
   "id": "f7e9eae3",
   "metadata": {},
   "outputs": [
    {
     "data": {
      "text/plain": [
       "1990    365\n",
       "1991    365\n",
       "1992    366\n",
       "1993    365\n",
       "1994    365\n",
       "1995    365\n",
       "1996    366\n",
       "1997    365\n",
       "1998    365\n",
       "1999    365\n",
       "2000    366\n",
       "2001    365\n",
       "2002    365\n",
       "2003    365\n",
       "2004    366\n",
       "2005    365\n",
       "2006    365\n",
       "2007    365\n",
       "2008    366\n",
       "2009    365\n",
       "2010    365\n",
       "2011    365\n",
       "2012    366\n",
       "2013    365\n",
       "2014    365\n",
       "2015    365\n",
       "2016    366\n",
       "2017    365\n",
       "2018    365\n",
       "2019    365\n",
       "2020    366\n",
       "2021    365\n",
       "2022    206\n",
       "Name: time, dtype: int64"
      ]
     },
     "execution_count": 49,
     "metadata": {},
     "output_type": "execute_result"
    }
   ],
   "source": [
    " weather.index.year.value_counts().sort_index()"
   ]
  },
  {
   "cell_type": "markdown",
   "id": "2da1e877",
   "metadata": {},
   "source": [
    "#### Visualizing the data"
   ]
  },
  {
   "cell_type": "code",
   "execution_count": 50,
   "id": "648fadf4",
   "metadata": {},
   "outputs": [
    {
     "data": {
      "text/plain": [
       "<Axes: xlabel='time'>"
      ]
     },
     "execution_count": 50,
     "metadata": {},
     "output_type": "execute_result"
    },
    {
     "data": {
      "image/png": "[encoded data removed]",
      "text/plain": [
       "<Figure size 640x480 with 1 Axes>"
      ]
     },
     "metadata": {},
     "output_type": "display_data"
    }
   ],
   "source": [
    "weather[\"tmin\"].plot()"
   ]
  },
  {
   "cell_type": "code",
   "execution_count": 51,
   "id": "86fa4e0b",
   "metadata": {},
   "outputs": [
    {
     "data": {
      "text/plain": [
       "<Axes: xlabel='time'>"
      ]
     },
     "execution_count": 51,
     "metadata": {},
     "output_type": "execute_result"
    },
    {
     "data": {
      "image/png": "[encoded data removed]",
      "text/plain": [
       "<Figure size 640x480 with 1 Axes>"
      ]
     },
     "metadata": {},
     "output_type": "display_data"
    }
   ],
   "source": [
    "weather[\"tmax\"].plot()"
   ]
  },
  {
   "cell_type": "code",
   "execution_count": 52,
   "id": "5e3dbf5c",
   "metadata": {},
   "outputs": [
    {
     "data": {
      "text/plain": [
       "<Axes: xlabel='time'>"
      ]
     },
     "execution_count": 52,
     "metadata": {},
     "output_type": "execute_result"
    },
    {
     "data": {
      "image/png": "[encoded data removed]",
      "text/plain": [
       "<Figure size 640x480 with 1 Axes>"
      ]
     },
     "metadata": {},
     "output_type": "display_data"
    }
   ],
   "source": [
    "weather[\"prcp\"].plot()"
   ]
  },
  {
   "cell_type": "markdown",
   "id": "5da53cd7",
   "metadata": {},
   "source": [
    "### Predicting the data"
   ]
  },
  {
   "cell_type": "markdown",
   "id": "060eae78",
   "metadata": {},
   "source": [
    "We are going to predict next day's max temperature"
   ]
  },
  {
   "cell_type": "markdown",
   "id": "927f2aa7",
   "metadata": {},
   "source": [
    "#### Setting the target variable"
   ]
  },
  {
   "cell_type": "code",
   "execution_count": 53,
   "id": "fc3e45f7",
   "metadata": {},
   "outputs": [],
   "source": [
    "weather[\"target\"]=weather.shift(-1)[\"tmax\"]"
   ]
  },
  {
   "cell_type": "code",
   "execution_count": 54,
   "id": "1e0ff9b1",
   "metadata": {},
   "outputs": [
    {
     "data": {
      "text/html": [
       "<div>\n",
       "<style scoped>\n",
       "    .dataframe tbody tr th:only-of-type {\n",
       "        vertical-align: middle;\n",
       "    }\n",
       "\n",
       "    .dataframe tbody tr th {\n",
       "        vertical-align: top;\n",
       "    }\n",
       "\n",
       "    .dataframe thead th {\n",
       "        text-align: right;\n",
       "    }\n",
       "</style>\n",
       "<table border=\"1\" class=\"dataframe\">\n",
       "  <thead>\n",
       "    <tr style=\"text-align: right;\">\n",
       "      <th></th>\n",
       "      <th>tavg</th>\n",
       "      <th>tmin</th>\n",
       "      <th>tmax</th>\n",
       "      <th>prcp</th>\n",
       "      <th>target</th>\n",
       "    </tr>\n",
       "    <tr>\n",
       "      <th>time</th>\n",
       "      <th></th>\n",
       "      <th></th>\n",
       "      <th></th>\n",
       "      <th></th>\n",
       "      <th></th>\n",
       "    </tr>\n",
       "  </thead>\n",
       "  <tbody>\n",
       "    <tr>\n",
       "      <th>1990-01-01</th>\n",
       "      <td>23.2</td>\n",
       "      <td>17.0</td>\n",
       "      <td>32.31504</td>\n",
       "      <td>0.0</td>\n",
       "      <td>29.9</td>\n",
       "    </tr>\n",
       "    <tr>\n",
       "      <th>1990-01-02</th>\n",
       "      <td>22.2</td>\n",
       "      <td>16.5</td>\n",
       "      <td>29.90000</td>\n",
       "      <td>0.0</td>\n",
       "      <td>30.7</td>\n",
       "    </tr>\n",
       "    <tr>\n",
       "      <th>1990-01-03</th>\n",
       "      <td>21.8</td>\n",
       "      <td>16.3</td>\n",
       "      <td>30.70000</td>\n",
       "      <td>0.0</td>\n",
       "      <td>31.8</td>\n",
       "    </tr>\n",
       "    <tr>\n",
       "      <th>1990-01-04</th>\n",
       "      <td>25.4</td>\n",
       "      <td>17.9</td>\n",
       "      <td>31.80000</td>\n",
       "      <td>0.0</td>\n",
       "      <td>33.7</td>\n",
       "    </tr>\n",
       "    <tr>\n",
       "      <th>1990-01-05</th>\n",
       "      <td>26.5</td>\n",
       "      <td>19.3</td>\n",
       "      <td>33.70000</td>\n",
       "      <td>0.0</td>\n",
       "      <td>33.5</td>\n",
       "    </tr>\n",
       "  </tbody>\n",
       "</table>\n",
       "</div>"
      ],
      "text/plain": [
       "            tavg  tmin      tmax  prcp  target\n",
       "time                                          \n",
       "1990-01-01  23.2  17.0  32.31504   0.0    29.9\n",
       "1990-01-02  22.2  16.5  29.90000   0.0    30.7\n",
       "1990-01-03  21.8  16.3  30.70000   0.0    31.8\n",
       "1990-01-04  25.4  17.9  31.80000   0.0    33.7\n",
       "1990-01-05  26.5  19.3  33.70000   0.0    33.5"
      ]
     },
     "execution_count": 54,
     "metadata": {},
     "output_type": "execute_result"
    }
   ],
   "source": [
    "weather.head()"
   ]
  },
  {
   "cell_type": "code",
   "execution_count": 55,
   "id": "e18e192b",
   "metadata": {},
   "outputs": [
    {
     "data": {
      "text/html": [
       "<div>\n",
       "<style scoped>\n",
       "    .dataframe tbody tr th:only-of-type {\n",
       "        vertical-align: middle;\n",
       "    }\n",
       "\n",
       "    .dataframe tbody tr th {\n",
       "        vertical-align: top;\n",
       "    }\n",
       "\n",
       "    .dataframe thead th {\n",
       "        text-align: right;\n",
       "    }\n",
       "</style>\n",
       "<table border=\"1\" class=\"dataframe\">\n",
       "  <thead>\n",
       "    <tr style=\"text-align: right;\">\n",
       "      <th></th>\n",
       "      <th>tavg</th>\n",
       "      <th>tmin</th>\n",
       "      <th>tmax</th>\n",
       "      <th>prcp</th>\n",
       "      <th>target</th>\n",
       "    </tr>\n",
       "    <tr>\n",
       "      <th>time</th>\n",
       "      <th></th>\n",
       "      <th></th>\n",
       "      <th></th>\n",
       "      <th></th>\n",
       "      <th></th>\n",
       "    </tr>\n",
       "  </thead>\n",
       "  <tbody>\n",
       "    <tr>\n",
       "      <th>2022-07-21</th>\n",
       "      <td>27.6</td>\n",
       "      <td>25.6</td>\n",
       "      <td>30.5</td>\n",
       "      <td>10.9</td>\n",
       "      <td>30.5</td>\n",
       "    </tr>\n",
       "    <tr>\n",
       "      <th>2022-07-22</th>\n",
       "      <td>28.3</td>\n",
       "      <td>26.0</td>\n",
       "      <td>30.5</td>\n",
       "      <td>3.0</td>\n",
       "      <td>31.3</td>\n",
       "    </tr>\n",
       "    <tr>\n",
       "      <th>2022-07-23</th>\n",
       "      <td>28.2</td>\n",
       "      <td>25.8</td>\n",
       "      <td>31.3</td>\n",
       "      <td>5.1</td>\n",
       "      <td>30.4</td>\n",
       "    </tr>\n",
       "    <tr>\n",
       "      <th>2022-07-24</th>\n",
       "      <td>28.1</td>\n",
       "      <td>25.6</td>\n",
       "      <td>30.4</td>\n",
       "      <td>7.1</td>\n",
       "      <td>30.2</td>\n",
       "    </tr>\n",
       "    <tr>\n",
       "      <th>2022-07-25</th>\n",
       "      <td>28.3</td>\n",
       "      <td>25.1</td>\n",
       "      <td>30.2</td>\n",
       "      <td>7.1</td>\n",
       "      <td>NaN</td>\n",
       "    </tr>\n",
       "  </tbody>\n",
       "</table>\n",
       "</div>"
      ],
      "text/plain": [
       "            tavg  tmin  tmax  prcp  target\n",
       "time                                      \n",
       "2022-07-21  27.6  25.6  30.5  10.9    30.5\n",
       "2022-07-22  28.3  26.0  30.5   3.0    31.3\n",
       "2022-07-23  28.2  25.8  31.3   5.1    30.4\n",
       "2022-07-24  28.1  25.6  30.4   7.1    30.2\n",
       "2022-07-25  28.3  25.1  30.2   7.1     NaN"
      ]
     },
     "execution_count": 55,
     "metadata": {},
     "output_type": "execute_result"
    }
   ],
   "source": [
    "weather.tail()"
   ]
  },
  {
   "cell_type": "markdown",
   "id": "7ae0bfe1",
   "metadata": {},
   "source": [
    "We dont have a data for 26th july thats why 25th has NaN value, so lets predict this data"
   ]
  },
  {
   "cell_type": "markdown",
   "id": "2c24c4c7",
   "metadata": {},
   "source": [
    "Lets just fill this row with the previous value for model training, it won't cause any issue"
   ]
  },
  {
   "cell_type": "code",
   "execution_count": 78,
   "id": "a41ed8d2",
   "metadata": {},
   "outputs": [
    {
     "data": {
      "text/html": [
       "<div>\n",
       "<style scoped>\n",
       "    .dataframe tbody tr th:only-of-type {\n",
       "        vertical-align: middle;\n",
       "    }\n",
       "\n",
       "    .dataframe tbody tr th {\n",
       "        vertical-align: top;\n",
       "    }\n",
       "\n",
       "    .dataframe thead th {\n",
       "        text-align: right;\n",
       "    }\n",
       "</style>\n",
       "<table border=\"1\" class=\"dataframe\">\n",
       "  <thead>\n",
       "    <tr style=\"text-align: right;\">\n",
       "      <th></th>\n",
       "      <th>tavg</th>\n",
       "      <th>tmin</th>\n",
       "      <th>tmax</th>\n",
       "      <th>prcp</th>\n",
       "      <th>target</th>\n",
       "    </tr>\n",
       "    <tr>\n",
       "      <th>time</th>\n",
       "      <th></th>\n",
       "      <th></th>\n",
       "      <th></th>\n",
       "      <th></th>\n",
       "      <th></th>\n",
       "    </tr>\n",
       "  </thead>\n",
       "  <tbody>\n",
       "    <tr>\n",
       "      <th>1990-01-01</th>\n",
       "      <td>23.2</td>\n",
       "      <td>17.0</td>\n",
       "      <td>32.31504</td>\n",
       "      <td>0.0</td>\n",
       "      <td>29.9</td>\n",
       "    </tr>\n",
       "    <tr>\n",
       "      <th>1990-01-02</th>\n",
       "      <td>22.2</td>\n",
       "      <td>16.5</td>\n",
       "      <td>29.90000</td>\n",
       "      <td>0.0</td>\n",
       "      <td>30.7</td>\n",
       "    </tr>\n",
       "    <tr>\n",
       "      <th>1990-01-03</th>\n",
       "      <td>21.8</td>\n",
       "      <td>16.3</td>\n",
       "      <td>30.70000</td>\n",
       "      <td>0.0</td>\n",
       "      <td>31.8</td>\n",
       "    </tr>\n",
       "    <tr>\n",
       "      <th>1990-01-04</th>\n",
       "      <td>25.4</td>\n",
       "      <td>17.9</td>\n",
       "      <td>31.80000</td>\n",
       "      <td>0.0</td>\n",
       "      <td>33.7</td>\n",
       "    </tr>\n",
       "    <tr>\n",
       "      <th>1990-01-05</th>\n",
       "      <td>26.5</td>\n",
       "      <td>19.3</td>\n",
       "      <td>33.70000</td>\n",
       "      <td>0.0</td>\n",
       "      <td>33.5</td>\n",
       "    </tr>\n",
       "    <tr>\n",
       "      <th>...</th>\n",
       "      <td>...</td>\n",
       "      <td>...</td>\n",
       "      <td>...</td>\n",
       "      <td>...</td>\n",
       "      <td>...</td>\n",
       "    </tr>\n",
       "    <tr>\n",
       "      <th>2022-07-20</th>\n",
       "      <td>27.4</td>\n",
       "      <td>25.0</td>\n",
       "      <td>30.50000</td>\n",
       "      <td>11.9</td>\n",
       "      <td>30.5</td>\n",
       "    </tr>\n",
       "    <tr>\n",
       "      <th>2022-07-21</th>\n",
       "      <td>27.6</td>\n",
       "      <td>25.6</td>\n",
       "      <td>30.50000</td>\n",
       "      <td>10.9</td>\n",
       "      <td>30.5</td>\n",
       "    </tr>\n",
       "    <tr>\n",
       "      <th>2022-07-22</th>\n",
       "      <td>28.3</td>\n",
       "      <td>26.0</td>\n",
       "      <td>30.50000</td>\n",
       "      <td>3.0</td>\n",
       "      <td>31.3</td>\n",
       "    </tr>\n",
       "    <tr>\n",
       "      <th>2022-07-23</th>\n",
       "      <td>28.2</td>\n",
       "      <td>25.8</td>\n",
       "      <td>31.30000</td>\n",
       "      <td>5.1</td>\n",
       "      <td>30.4</td>\n",
       "    </tr>\n",
       "    <tr>\n",
       "      <th>2022-07-24</th>\n",
       "      <td>28.1</td>\n",
       "      <td>25.6</td>\n",
       "      <td>30.40000</td>\n",
       "      <td>7.1</td>\n",
       "      <td>30.2</td>\n",
       "    </tr>\n",
       "  </tbody>\n",
       "</table>\n",
       "<p>11893 rows × 5 columns</p>\n",
       "</div>"
      ],
      "text/plain": [
       "            tavg  tmin      tmax  prcp  target\n",
       "time                                          \n",
       "1990-01-01  23.2  17.0  32.31504   0.0    29.9\n",
       "1990-01-02  22.2  16.5  29.90000   0.0    30.7\n",
       "1990-01-03  21.8  16.3  30.70000   0.0    31.8\n",
       "1990-01-04  25.4  17.9  31.80000   0.0    33.7\n",
       "1990-01-05  26.5  19.3  33.70000   0.0    33.5\n",
       "...          ...   ...       ...   ...     ...\n",
       "2022-07-20  27.4  25.0  30.50000  11.9    30.5\n",
       "2022-07-21  27.6  25.6  30.50000  10.9    30.5\n",
       "2022-07-22  28.3  26.0  30.50000   3.0    31.3\n",
       "2022-07-23  28.2  25.8  31.30000   5.1    30.4\n",
       "2022-07-24  28.1  25.6  30.40000   7.1    30.2\n",
       "\n",
       "[11893 rows x 5 columns]"
      ]
     },
     "execution_count": 78,
     "metadata": {},
     "output_type": "execute_result"
    }
   ],
   "source": [
    "weather.ffill()"
   ]
  },
  {
   "cell_type": "markdown",
   "id": "811a8a83",
   "metadata": {},
   "source": [
    "#### Train-test split"
   ]
  },
  {
   "cell_type": "code",
   "execution_count": 79,
   "id": "3432c84b",
   "metadata": {},
   "outputs": [],
   "source": [
    "predictors = weather.columns[~weather.columns.isin([\"target\"])]"
   ]
  },
  {
   "cell_type": "markdown",
   "id": "971189a6",
   "metadata": {},
   "source": [
    "### Applying models"
   ]
  },
  {
   "cell_type": "markdown",
   "id": "784ff7a6",
   "metadata": {},
   "source": [
    "Note: when trying to estimate the error of a ml model, you can use cross validation except with time series data. With time series data, dont use future data to predict the past. So, use a special technique called back testing."
   ]
  },
  {
   "cell_type": "markdown",
   "id": "20441d82",
   "metadata": {},
   "source": [
    "#### Backtest function"
   ]
  },
  {
   "cell_type": "code",
   "execution_count": 80,
   "id": "f6f6ac63",
   "metadata": {},
   "outputs": [],
   "source": [
    "def backtest(weather, model, predictors, start=3650, step=90):\n",
    "    all_predictions = [] #each element in this list will be a df having precitions for 90 days\n",
    "    \n",
    "    for i in range(start, weather.shape[0], step):\n",
    "        train = weather.iloc[:i,:] #will use all rows before i to train\n",
    "        test = weather.iloc[i:(i+step),:] #will use next 90 days to predict\n",
    "        \n",
    "        model.fit(train[predictors],train[\"target\"])\n",
    "        \n",
    "        preds = model.predict(test[predictors])\n",
    "        \n",
    "        preds = pd.Series(preds, index = test.index)\n",
    "        combined = pd.concat([test[\"target\"],preds], axis=1)\n",
    "        \n",
    "        combined.columns = [\"actual\",\"predicted\"]\n",
    "        \n",
    "        combined[\"diff\"] = (combined[\"predicted\"]-combined[\"actual\"]).abs()\n",
    "        \n",
    "        all_predictions.append(combined)\n",
    "    return pd.concat(all_predictions)"
   ]
  },
  {
   "cell_type": "markdown",
   "id": "83e2aa86",
   "metadata": {},
   "source": [
    "#### Ridge Regression model"
   ]
  },
  {
   "cell_type": "code",
   "execution_count": 81,
   "id": "cb8c6b05",
   "metadata": {},
   "outputs": [],
   "source": [
    "from sklearn.linear_model import Ridge\n",
    "rr = Ridge(alpha=0.1)"
   ]
  },
  {
   "cell_type": "code",
   "execution_count": 82,
   "id": "cbf6ba2e",
   "metadata": {},
   "outputs": [],
   "source": [
    "predictions = backtest(weather, rr, predictors)"
   ]
  },
  {
   "cell_type": "code",
   "execution_count": 83,
   "id": "8ea48c2b",
   "metadata": {},
   "outputs": [
    {
     "data": {
      "text/html": [
       "<div>\n",
       "<style scoped>\n",
       "    .dataframe tbody tr th:only-of-type {\n",
       "        vertical-align: middle;\n",
       "    }\n",
       "\n",
       "    .dataframe tbody tr th {\n",
       "        vertical-align: top;\n",
       "    }\n",
       "\n",
       "    .dataframe thead th {\n",
       "        text-align: right;\n",
       "    }\n",
       "</style>\n",
       "<table border=\"1\" class=\"dataframe\">\n",
       "  <thead>\n",
       "    <tr style=\"text-align: right;\">\n",
       "      <th></th>\n",
       "      <th>actual</th>\n",
       "      <th>predicted</th>\n",
       "      <th>diff</th>\n",
       "    </tr>\n",
       "    <tr>\n",
       "      <th>time</th>\n",
       "      <th></th>\n",
       "      <th></th>\n",
       "      <th></th>\n",
       "    </tr>\n",
       "  </thead>\n",
       "  <tbody>\n",
       "    <tr>\n",
       "      <th>1999-12-30</th>\n",
       "      <td>32.31504</td>\n",
       "      <td>32.644486</td>\n",
       "      <td>0.329446</td>\n",
       "    </tr>\n",
       "    <tr>\n",
       "      <th>1999-12-31</th>\n",
       "      <td>33.90000</td>\n",
       "      <td>32.552356</td>\n",
       "      <td>1.347644</td>\n",
       "    </tr>\n",
       "    <tr>\n",
       "      <th>2000-01-01</th>\n",
       "      <td>33.50000</td>\n",
       "      <td>32.718655</td>\n",
       "      <td>0.781345</td>\n",
       "    </tr>\n",
       "    <tr>\n",
       "      <th>2000-01-02</th>\n",
       "      <td>33.40000</td>\n",
       "      <td>33.097609</td>\n",
       "      <td>0.302391</td>\n",
       "    </tr>\n",
       "    <tr>\n",
       "      <th>2000-01-03</th>\n",
       "      <td>33.00000</td>\n",
       "      <td>32.542831</td>\n",
       "      <td>0.457169</td>\n",
       "    </tr>\n",
       "    <tr>\n",
       "      <th>...</th>\n",
       "      <td>...</td>\n",
       "      <td>...</td>\n",
       "      <td>...</td>\n",
       "    </tr>\n",
       "    <tr>\n",
       "      <th>2022-07-20</th>\n",
       "      <td>30.50000</td>\n",
       "      <td>30.982143</td>\n",
       "      <td>0.482143</td>\n",
       "    </tr>\n",
       "    <tr>\n",
       "      <th>2022-07-21</th>\n",
       "      <td>30.50000</td>\n",
       "      <td>30.980258</td>\n",
       "      <td>0.480258</td>\n",
       "    </tr>\n",
       "    <tr>\n",
       "      <th>2022-07-22</th>\n",
       "      <td>31.30000</td>\n",
       "      <td>31.139764</td>\n",
       "      <td>0.160236</td>\n",
       "    </tr>\n",
       "    <tr>\n",
       "      <th>2022-07-23</th>\n",
       "      <td>30.40000</td>\n",
       "      <td>31.579945</td>\n",
       "      <td>1.179945</td>\n",
       "    </tr>\n",
       "    <tr>\n",
       "      <th>2022-07-24</th>\n",
       "      <td>30.20000</td>\n",
       "      <td>31.057865</td>\n",
       "      <td>0.857865</td>\n",
       "    </tr>\n",
       "  </tbody>\n",
       "</table>\n",
       "<p>8243 rows × 3 columns</p>\n",
       "</div>"
      ],
      "text/plain": [
       "              actual  predicted      diff\n",
       "time                                     \n",
       "1999-12-30  32.31504  32.644486  0.329446\n",
       "1999-12-31  33.90000  32.552356  1.347644\n",
       "2000-01-01  33.50000  32.718655  0.781345\n",
       "2000-01-02  33.40000  33.097609  0.302391\n",
       "2000-01-03  33.00000  32.542831  0.457169\n",
       "...              ...        ...       ...\n",
       "2022-07-20  30.50000  30.982143  0.482143\n",
       "2022-07-21  30.50000  30.980258  0.480258\n",
       "2022-07-22  31.30000  31.139764  0.160236\n",
       "2022-07-23  30.40000  31.579945  1.179945\n",
       "2022-07-24  30.20000  31.057865  0.857865\n",
       "\n",
       "[8243 rows x 3 columns]"
      ]
     },
     "execution_count": 83,
     "metadata": {},
     "output_type": "execute_result"
    }
   ],
   "source": [
    "predictions"
   ]
  },
  {
   "cell_type": "markdown",
   "id": "d9a2880f",
   "metadata": {},
   "source": [
    "#### Checking the accuracy"
   ]
  },
  {
   "cell_type": "code",
   "execution_count": 84,
   "id": "34055f51",
   "metadata": {},
   "outputs": [
    {
     "data": {
      "text/plain": [
       "1.0552477226681984"
      ]
     },
     "execution_count": 84,
     "metadata": {},
     "output_type": "execute_result"
    }
   ],
   "source": [
    "from sklearn.metrics import mean_absolute_error\n",
    "\n",
    "mean_absolute_error(predictions[\"actual\"], predictions[\"predicted\"])"
   ]
  },
  {
   "cell_type": "markdown",
   "id": "be5612b5",
   "metadata": {},
   "source": [
    "### So our model gave a 1.05 accuracy value which means that our predicted value was only +/- from our target value"
   ]
  },
  {
   "cell_type": "code",
   "execution_count": null,
   "id": "87a9308d",
   "metadata": {},
   "outputs": [],
   "source": []
  }
 ],
 "metadata": {
  "kernelspec": {
   "display_name": "Python 3 (ipykernel)",
   "language": "python",
   "name": "python3"
  },
  "language_info": {
   "codemirror_mode": {
    "name": "ipython",
    "version": 3
   },
   "file_extension": ".py",
   "mimetype": "text/x-python",
   "name": "python",
   "nbconvert_exporter": "python",
   "pygments_lexer": "ipython3",
   "version": "3.10.9"
  }
 },
 "nbformat": 4,
 "nbformat_minor": 5
}
